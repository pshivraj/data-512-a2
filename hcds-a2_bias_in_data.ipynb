{
 "cells": [
  {
   "cell_type": "markdown",
   "metadata": {},
   "source": [
    "# A2: Investigating Bias in Wikipedia Article Counts by Country"
   ]
  },
  {
   "cell_type": "markdown",
   "metadata": {},
   "source": [
    "The goal of this assignment is to explore the concept of bias through data on Wikipedia articles - \n",
    "specifically, articles on political figures from a variety of countries.\n",
    "analysis will consist of a series of tables that show:\n",
    "The analysis would cover following aspects to analyse the bias:\n",
    "-  The countries with the greatest and least coverage of politicians on Wikipedia compared to their population.\n",
    "-  The countries with the highest and lowest proportion of high quality articles about politicians."
   ]
  },
  {
   "cell_type": "markdown",
   "metadata": {},
   "source": [
    "# Import Necessary Libraries"
   ]
  },
  {
   "cell_type": "code",
   "execution_count": 6,
   "metadata": {
    "ExecuteTime": {
     "end_time": "2018-10-31T19:58:16.210264Z",
     "start_time": "2018-10-31T19:58:16.205190Z"
    }
   },
   "outputs": [],
   "source": [
    "import json\n",
    "import matplotlib.pyplot as plt\n",
    "import numpy as np\n",
    "import os\n",
    "import pandas as pd\n",
    "import requests\n",
    "\n",
    "%matplotlib inline"
   ]
  },
  {
   "cell_type": "markdown",
   "metadata": {
    "ExecuteTime": {
     "end_time": "2018-10-27T19:10:52.967481Z",
     "start_time": "2018-10-27T19:10:52.965407Z"
    }
   },
   "source": [
    "# Data collection"
   ]
  },
  {
   "cell_type": "markdown",
   "metadata": {},
   "source": [
    "The anaysis require data from 3 different data srources which would be then combined together based on comman attributes.\n",
    "The primary data sources are :\n",
    "   -  Wikipedia.\n",
    "   -  Population dataset.\n",
    "   -  Article quality using ORES dataset.\n"
   ]
  },
  {
   "cell_type": "markdown",
   "metadata": {},
   "source": [
    "## Wikipedia"
   ]
  },
  {
   "cell_type": "markdown",
   "metadata": {},
   "source": [
    "This section involves using Wikipedia dataset about political articles which attributes each articles with its corresponding country and based on articles/pages unqiue id.\n",
    "The data can be downloaded from [Figshare](https://figshare.com/articles/Untitled_Item/5513449). Figshare link provides\n",
    "country.zip file which contains page_data.csv having the requisite data for our analysis.\n",
    "We'll save this file in our data folder for easy access."
   ]
  },
  {
   "cell_type": "code",
   "execution_count": 7,
   "metadata": {
    "ExecuteTime": {
     "end_time": "2018-10-31T19:58:18.365687Z",
     "start_time": "2018-10-31T19:58:18.306208Z"
    }
   },
   "outputs": [
    {
     "data": {
      "text/html": [
       "<div>\n",
       "<style scoped>\n",
       "    .dataframe tbody tr th:only-of-type {\n",
       "        vertical-align: middle;\n",
       "    }\n",
       "\n",
       "    .dataframe tbody tr th {\n",
       "        vertical-align: top;\n",
       "    }\n",
       "\n",
       "    .dataframe thead th {\n",
       "        text-align: right;\n",
       "    }\n",
       "</style>\n",
       "<table border=\"1\" class=\"dataframe\">\n",
       "  <thead>\n",
       "    <tr style=\"text-align: right;\">\n",
       "      <th></th>\n",
       "      <th>page</th>\n",
       "      <th>country</th>\n",
       "      <th>rev_id</th>\n",
       "    </tr>\n",
       "  </thead>\n",
       "  <tbody>\n",
       "    <tr>\n",
       "      <th>0</th>\n",
       "      <td>Template:ZambiaProvincialMinisters</td>\n",
       "      <td>Zambia</td>\n",
       "      <td>235107991</td>\n",
       "    </tr>\n",
       "    <tr>\n",
       "      <th>1</th>\n",
       "      <td>Bir I of Kanem</td>\n",
       "      <td>Chad</td>\n",
       "      <td>355319463</td>\n",
       "    </tr>\n",
       "    <tr>\n",
       "      <th>2</th>\n",
       "      <td>Template:Zimbabwe-politician-stub</td>\n",
       "      <td>Zimbabwe</td>\n",
       "      <td>391862046</td>\n",
       "    </tr>\n",
       "    <tr>\n",
       "      <th>3</th>\n",
       "      <td>Template:Uganda-politician-stub</td>\n",
       "      <td>Uganda</td>\n",
       "      <td>391862070</td>\n",
       "    </tr>\n",
       "    <tr>\n",
       "      <th>4</th>\n",
       "      <td>Template:Namibia-politician-stub</td>\n",
       "      <td>Namibia</td>\n",
       "      <td>391862409</td>\n",
       "    </tr>\n",
       "  </tbody>\n",
       "</table>\n",
       "</div>"
      ],
      "text/plain": [
       "                                 page   country     rev_id\n",
       "0  Template:ZambiaProvincialMinisters    Zambia  235107991\n",
       "1                      Bir I of Kanem      Chad  355319463\n",
       "2   Template:Zimbabwe-politician-stub  Zimbabwe  391862046\n",
       "3     Template:Uganda-politician-stub    Uganda  391862070\n",
       "4    Template:Namibia-politician-stub   Namibia  391862409"
      ]
     },
     "execution_count": 7,
     "metadata": {},
     "output_type": "execute_result"
    }
   ],
   "source": [
    "# Load page_data from data folder\n",
    "page_data = pd.read_csv('data/page_data.csv')\n",
    "page_data.head()"
   ]
  },
  {
   "cell_type": "markdown",
   "metadata": {},
   "source": [
    "A quick glance of the data set reveals 3 primary attributes of the data. This data contains for each page its Country, each page has a unique identifer as rev_id"
   ]
  },
  {
   "cell_type": "markdown",
   "metadata": {},
   "source": [
    "## Population dataset."
   ]
  },
  {
   "cell_type": "markdown",
   "metadata": {
    "ExecuteTime": {
     "end_time": "2018-10-28T02:25:52.976016Z",
     "start_time": "2018-10-28T02:25:52.967642Z"
    }
   },
   "source": [
    "Population data for each country can be downloaded from [Population Research Bureau website](https://www.prb.org/data/)"
   ]
  },
  {
   "cell_type": "code",
   "execution_count": 8,
   "metadata": {
    "ExecuteTime": {
     "end_time": "2018-10-31T19:58:20.273562Z",
     "start_time": "2018-10-31T19:58:20.263655Z"
    }
   },
   "outputs": [
    {
     "data": {
      "text/html": [
       "<div>\n",
       "<style scoped>\n",
       "    .dataframe tbody tr th:only-of-type {\n",
       "        vertical-align: middle;\n",
       "    }\n",
       "\n",
       "    .dataframe tbody tr th {\n",
       "        vertical-align: top;\n",
       "    }\n",
       "\n",
       "    .dataframe thead th {\n",
       "        text-align: right;\n",
       "    }\n",
       "</style>\n",
       "<table border=\"1\" class=\"dataframe\">\n",
       "  <thead>\n",
       "    <tr style=\"text-align: right;\">\n",
       "      <th></th>\n",
       "      <th>Geography</th>\n",
       "      <th>Population mid-2018 (millions)</th>\n",
       "    </tr>\n",
       "  </thead>\n",
       "  <tbody>\n",
       "    <tr>\n",
       "      <th>0</th>\n",
       "      <td>AFRICA</td>\n",
       "      <td>1,284</td>\n",
       "    </tr>\n",
       "    <tr>\n",
       "      <th>1</th>\n",
       "      <td>Algeria</td>\n",
       "      <td>42.7</td>\n",
       "    </tr>\n",
       "    <tr>\n",
       "      <th>2</th>\n",
       "      <td>Egypt</td>\n",
       "      <td>97</td>\n",
       "    </tr>\n",
       "    <tr>\n",
       "      <th>3</th>\n",
       "      <td>Libya</td>\n",
       "      <td>6.5</td>\n",
       "    </tr>\n",
       "    <tr>\n",
       "      <th>4</th>\n",
       "      <td>Morocco</td>\n",
       "      <td>35.2</td>\n",
       "    </tr>\n",
       "  </tbody>\n",
       "</table>\n",
       "</div>"
      ],
      "text/plain": [
       "  Geography Population mid-2018 (millions)\n",
       "0    AFRICA                          1,284\n",
       "1   Algeria                           42.7\n",
       "2     Egypt                             97\n",
       "3     Libya                            6.5\n",
       "4   Morocco                           35.2"
      ]
     },
     "execution_count": 8,
     "metadata": {},
     "output_type": "execute_result"
    }
   ],
   "source": [
    "# Load population from data folder\n",
    "population_data = pd.read_csv('data/wiki_population_2018_data.csv')\n",
    "population_data.head()"
   ]
  },
  {
   "cell_type": "markdown",
   "metadata": {
    "ExecuteTime": {
     "end_time": "2018-10-28T02:31:11.466605Z",
     "start_time": "2018-10-28T02:31:11.462235Z"
    }
   },
   "source": [
    "A quick glance of the data set reveals 2 attributes of the data Geography and Population mid-2018 (millions) columns. This data contains for each Country its corresponding population(Data column)."
   ]
  },
  {
   "cell_type": "markdown",
   "metadata": {},
   "source": [
    "## Article quality using ORES dataset.\n",
    "\n",
    "Next step involves using ORES API to get each article/page score. ORES gives a class to each article which can be:\n",
    " - FA - Featured article\n",
    " - GA - Good article\n",
    " - B - B-class article\n",
    " - C - C-class article\n",
    " - Start - Start-class article\n",
    " - Stub - Stub-class article\n",
    " \n",
    "I am using this notebook as reference to make the api calls and get the predictions: [ORES](https://github.com/Ironholds/data-512-a2/blob/master/hcds-a2-bias_demo.ipynb)"
   ]
  },
  {
   "cell_type": "code",
   "execution_count": 9,
   "metadata": {
    "ExecuteTime": {
     "end_time": "2018-10-31T19:58:21.638899Z",
     "start_time": "2018-10-31T19:58:21.633505Z"
    }
   },
   "outputs": [],
   "source": [
    "HEADERS = {'User-Agent': 'https://github.com/pshivraj', 'From': 'pshivraj@uw.edu'}\n",
    "\n",
    "def get_ores_data(revision_ids):\n",
    "    \"\"\"\n",
    "    Utility function to get page quality scores from ORES API.\n",
    "    param :\n",
    "        revision_ids: The revision id of the page,\n",
    "        headers: api headers.\n",
    "    outputs :\n",
    "        preds : revision_id and score.\n",
    "    \"\"\"\n",
    "    # Define the endpoint\n",
    "    endpoint = 'https://ores.wikimedia.org/v3/scores/{project}/?models={model}&revids={revids}'\n",
    " \n",
    "    params = {\n",
    "        'project': 'enwiki',\n",
    "        'model': 'wp10',\n",
    "        'revids': '|'.join(str(x) for x in revision_ids)\n",
    "    }\n",
    "    json_response = requests.get(endpoint.format(**params),HEADERS).json()\n",
    "    preds = []\n",
    "    \n",
    "    # Unpack predictions according to the response structure, which can be found in the reference notebook\n",
    "    for key, value in json_response[\"enwiki\"][\"scores\"].items():\n",
    "        result_dict = value[\"wp10\"]\n",
    "        if \"error\" not in result_dict:\n",
    "            prediction = {\n",
    "                'rev_id': int(key),\n",
    "                'prediction': result_dict[\"score\"][\"prediction\"]\n",
    "            }\n",
    "            preds.append(prediction)\n",
    "    \n",
    "    return preds"
   ]
  },
  {
   "cell_type": "markdown",
   "metadata": {},
   "source": [
    "Since there is rate limited for number of request to the API, we'll send 500 requests at a time to evade getting rate limitted."
   ]
  },
  {
   "cell_type": "code",
   "execution_count": 10,
   "metadata": {
    "ExecuteTime": {
     "end_time": "2018-10-31T20:01:08.881839Z",
     "start_time": "2018-10-31T19:58:26.001948Z"
    }
   },
   "outputs": [],
   "source": [
    "revision_score_arr = []\n",
    "for rev in np.array_split(page_data, 500):\n",
    "    rev_ids = rev['rev_id'].tolist()\n",
    "    # extending list for next iteration\n",
    "    rev_score = get_ores_data(rev_ids)\n",
    "    revision_score_arr.extend(rev_score)"
   ]
  },
  {
   "cell_type": "markdown",
   "metadata": {
    "ExecuteTime": {
     "end_time": "2018-10-31T18:08:55.174240Z",
     "start_time": "2018-10-31T18:08:55.170299Z"
    }
   },
   "source": [
    "Combining this with the article data this might lead to loss of data frame rows as not all article has prediction. we can inspect this based on the initial page data shape vs number of returned predictions shape."
   ]
  },
  {
   "cell_type": "code",
   "execution_count": 11,
   "metadata": {
    "ExecuteTime": {
     "end_time": "2018-10-31T20:01:20.287050Z",
     "start_time": "2018-10-31T20:01:20.282953Z"
    }
   },
   "outputs": [
    {
     "name": "stdout",
     "output_type": "stream",
     "text": [
      "Total articles in wiki data 47197 vs total articles with prediction 47092\n"
     ]
    }
   ],
   "source": [
    "print('Total articles in wiki data {} vs total articles with prediction {}'.format(len(page_data), len(revision_score_arr)))"
   ]
  },
  {
   "cell_type": "code",
   "execution_count": 12,
   "metadata": {
    "ExecuteTime": {
     "end_time": "2018-10-31T20:01:20.874019Z",
     "start_time": "2018-10-31T20:01:20.811353Z"
    }
   },
   "outputs": [
    {
     "data": {
      "text/html": [
       "<div>\n",
       "<style scoped>\n",
       "    .dataframe tbody tr th:only-of-type {\n",
       "        vertical-align: middle;\n",
       "    }\n",
       "\n",
       "    .dataframe tbody tr th {\n",
       "        vertical-align: top;\n",
       "    }\n",
       "\n",
       "    .dataframe thead th {\n",
       "        text-align: right;\n",
       "    }\n",
       "</style>\n",
       "<table border=\"1\" class=\"dataframe\">\n",
       "  <thead>\n",
       "    <tr style=\"text-align: right;\">\n",
       "      <th></th>\n",
       "      <th>page</th>\n",
       "      <th>country</th>\n",
       "      <th>rev_id</th>\n",
       "      <th>prediction</th>\n",
       "    </tr>\n",
       "  </thead>\n",
       "  <tbody>\n",
       "    <tr>\n",
       "      <th>0</th>\n",
       "      <td>Bir I of Kanem</td>\n",
       "      <td>Chad</td>\n",
       "      <td>355319463</td>\n",
       "      <td>Stub</td>\n",
       "    </tr>\n",
       "    <tr>\n",
       "      <th>1</th>\n",
       "      <td>Template:Zimbabwe-politician-stub</td>\n",
       "      <td>Zimbabwe</td>\n",
       "      <td>391862046</td>\n",
       "      <td>Stub</td>\n",
       "    </tr>\n",
       "    <tr>\n",
       "      <th>2</th>\n",
       "      <td>Template:Uganda-politician-stub</td>\n",
       "      <td>Uganda</td>\n",
       "      <td>391862070</td>\n",
       "      <td>Stub</td>\n",
       "    </tr>\n",
       "    <tr>\n",
       "      <th>3</th>\n",
       "      <td>Template:Namibia-politician-stub</td>\n",
       "      <td>Namibia</td>\n",
       "      <td>391862409</td>\n",
       "      <td>Stub</td>\n",
       "    </tr>\n",
       "    <tr>\n",
       "      <th>4</th>\n",
       "      <td>Template:Nigeria-politician-stub</td>\n",
       "      <td>Nigeria</td>\n",
       "      <td>391862819</td>\n",
       "      <td>Stub</td>\n",
       "    </tr>\n",
       "  </tbody>\n",
       "</table>\n",
       "</div>"
      ],
      "text/plain": [
       "                                page   country     rev_id prediction\n",
       "0                     Bir I of Kanem      Chad  355319463       Stub\n",
       "1  Template:Zimbabwe-politician-stub  Zimbabwe  391862046       Stub\n",
       "2    Template:Uganda-politician-stub    Uganda  391862070       Stub\n",
       "3   Template:Namibia-politician-stub   Namibia  391862409       Stub\n",
       "4   Template:Nigeria-politician-stub   Nigeria  391862819       Stub"
      ]
     },
     "execution_count": 12,
     "metadata": {},
     "output_type": "execute_result"
    }
   ],
   "source": [
    "revision_score_df = pd.DataFrame(revision_score_arr)\n",
    "article_df = page_data.merge(revision_score_df, on='rev_id')\n",
    "article_df.head(5)"
   ]
  },
  {
   "cell_type": "markdown",
   "metadata": {},
   "source": [
    "Lets check if we got predictions without any anamolies. We can see below that we have prediction string which are in line with all the classes we expected to get with no missing values."
   ]
  },
  {
   "cell_type": "code",
   "execution_count": 13,
   "metadata": {
    "ExecuteTime": {
     "end_time": "2018-10-31T20:01:23.478276Z",
     "start_time": "2018-10-31T20:01:23.466679Z"
    }
   },
   "outputs": [
    {
     "data": {
      "text/plain": [
       "Stub     24633\n",
       "Start    14819\n",
       "C         5855\n",
       "B          762\n",
       "GA         732\n",
       "FA         291\n",
       "Name: prediction, dtype: int64"
      ]
     },
     "execution_count": 13,
     "metadata": {},
     "output_type": "execute_result"
    }
   ],
   "source": [
    "article_df['prediction'].value_counts()"
   ]
  },
  {
   "cell_type": "code",
   "execution_count": 14,
   "metadata": {
    "ExecuteTime": {
     "end_time": "2018-10-31T20:01:25.227930Z",
     "start_time": "2018-10-31T20:01:25.102173Z"
    }
   },
   "outputs": [],
   "source": [
    "# save the page_data with score in our data folder.\n",
    "article_df.to_csv('data/page_data_with_scores.csv', index=False)"
   ]
  },
  {
   "cell_type": "code",
   "execution_count": 15,
   "metadata": {
    "ExecuteTime": {
     "end_time": "2018-10-31T20:01:26.563179Z",
     "start_time": "2018-10-31T20:01:26.543269Z"
    }
   },
   "outputs": [
    {
     "data": {
      "text/html": [
       "<div>\n",
       "<style scoped>\n",
       "    .dataframe tbody tr th:only-of-type {\n",
       "        vertical-align: middle;\n",
       "    }\n",
       "\n",
       "    .dataframe tbody tr th {\n",
       "        vertical-align: top;\n",
       "    }\n",
       "\n",
       "    .dataframe thead th {\n",
       "        text-align: right;\n",
       "    }\n",
       "</style>\n",
       "<table border=\"1\" class=\"dataframe\">\n",
       "  <thead>\n",
       "    <tr style=\"text-align: right;\">\n",
       "      <th></th>\n",
       "      <th>page</th>\n",
       "      <th>country</th>\n",
       "      <th>rev_id</th>\n",
       "      <th>prediction</th>\n",
       "      <th>population</th>\n",
       "    </tr>\n",
       "  </thead>\n",
       "  <tbody>\n",
       "    <tr>\n",
       "      <th>0</th>\n",
       "      <td>Bir I of Kanem</td>\n",
       "      <td>Chad</td>\n",
       "      <td>355319463</td>\n",
       "      <td>Stub</td>\n",
       "      <td>15.4</td>\n",
       "    </tr>\n",
       "    <tr>\n",
       "      <th>1</th>\n",
       "      <td>Abdullah II of Kanem</td>\n",
       "      <td>Chad</td>\n",
       "      <td>498683267</td>\n",
       "      <td>Stub</td>\n",
       "      <td>15.4</td>\n",
       "    </tr>\n",
       "    <tr>\n",
       "      <th>2</th>\n",
       "      <td>Salmama II of Kanem</td>\n",
       "      <td>Chad</td>\n",
       "      <td>565745353</td>\n",
       "      <td>Stub</td>\n",
       "      <td>15.4</td>\n",
       "    </tr>\n",
       "    <tr>\n",
       "      <th>3</th>\n",
       "      <td>Kuri I of Kanem</td>\n",
       "      <td>Chad</td>\n",
       "      <td>565745365</td>\n",
       "      <td>Stub</td>\n",
       "      <td>15.4</td>\n",
       "    </tr>\n",
       "    <tr>\n",
       "      <th>4</th>\n",
       "      <td>Mohammed I of Kanem</td>\n",
       "      <td>Chad</td>\n",
       "      <td>565745375</td>\n",
       "      <td>Stub</td>\n",
       "      <td>15.4</td>\n",
       "    </tr>\n",
       "  </tbody>\n",
       "</table>\n",
       "</div>"
      ],
      "text/plain": [
       "                   page country     rev_id prediction population\n",
       "0        Bir I of Kanem    Chad  355319463       Stub       15.4\n",
       "1  Abdullah II of Kanem    Chad  498683267       Stub       15.4\n",
       "2   Salmama II of Kanem    Chad  565745353       Stub       15.4\n",
       "3       Kuri I of Kanem    Chad  565745365       Stub       15.4\n",
       "4   Mohammed I of Kanem    Chad  565745375       Stub       15.4"
      ]
     },
     "execution_count": 15,
     "metadata": {},
     "output_type": "execute_result"
    }
   ],
   "source": [
    "# merging population and score data to get a merged data frame\n",
    "population_data.columns = ['country', 'population']\n",
    "merged_data = article_df.merge(population_data, on='country')\n",
    "merged_data.head(5)"
   ]
  },
  {
   "cell_type": "code",
   "execution_count": 16,
   "metadata": {
    "ExecuteTime": {
     "end_time": "2018-10-31T20:01:27.111805Z",
     "start_time": "2018-10-31T20:01:26.996874Z"
    }
   },
   "outputs": [],
   "source": [
    "#save to local directory data folder.\n",
    "merged_data.to_csv('data/article_quality_with_population.csv', index=False)"
   ]
  },
  {
   "cell_type": "markdown",
   "metadata": {},
   "source": [
    "# Analysis of articles"
   ]
  },
  {
   "cell_type": "markdown",
   "metadata": {},
   "source": [
    "We will be trying to answer folowing questions using the merged data generated above:\n",
    "  - 10 highest-ranked countries in terms of number of politician articles as a proportion of country population\n",
    "  - 10 lowest-ranked countries in terms of number of politician articles as a proportion of country population\n",
    "  - 10 highest-ranked countries in terms of number of GA and FA-quality articles as a proportion of all articles about politicians from that country\n",
    "  - 10 lowest-ranked countries in terms of number of GA and FA-quality articles as a proportion of all articles about politicians from that country"
   ]
  },
  {
   "cell_type": "markdown",
   "metadata": {},
   "source": [
    "Lets first generate for each country number of articles published which would help us answer question per capita for a country."
   ]
  },
  {
   "cell_type": "code",
   "execution_count": 17,
   "metadata": {
    "ExecuteTime": {
     "end_time": "2018-10-31T20:01:30.007096Z",
     "start_time": "2018-10-31T20:01:29.983770Z"
    }
   },
   "outputs": [],
   "source": [
    "article_count_by_country = pd.DataFrame(merged_data.groupby('country').count()['rev_id']).reset_index()\n",
    "article_count_by_country.columns = ['country','article_count']"
   ]
  },
  {
   "cell_type": "markdown",
   "metadata": {},
   "source": [
    "We'll now merge the aricle count per country data with the parent data frame to add the new feature article_count to the existing data frame- merged_data"
   ]
  },
  {
   "cell_type": "code",
   "execution_count": 18,
   "metadata": {
    "ExecuteTime": {
     "end_time": "2018-10-31T20:01:30.434128Z",
     "start_time": "2018-10-31T20:01:30.415874Z"
    }
   },
   "outputs": [],
   "source": [
    "final_df = pd.merge(merged_data, article_count_by_country, on='country')"
   ]
  },
  {
   "cell_type": "markdown",
   "metadata": {},
   "source": [
    "Since we need to answer question related to high quality articles as well which is defined as prediction from ORES API having prediction as either 'FA' or 'GA', we'll subset the existing data frame to get just the articles which has there predictions.\n",
    "Eventually we will generate high quality article count as we did for all the articles in the above cell."
   ]
  },
  {
   "cell_type": "code",
   "execution_count": 19,
   "metadata": {
    "ExecuteTime": {
     "end_time": "2018-10-31T20:01:30.916396Z",
     "start_time": "2018-10-31T20:01:30.903873Z"
    }
   },
   "outputs": [],
   "source": [
    "high_quality_articles = merged_data.loc[merged_data['prediction'].isin(['FA','GA'])]\n",
    "high_quality_article_count_by_country = pd.DataFrame(high_quality_articles.groupby('country').count()['rev_id']).reset_index()\n",
    "high_quality_article_count_by_country.columns = ['country','high_quality_article_count']"
   ]
  },
  {
   "cell_type": "markdown",
   "metadata": {},
   "source": [
    "Lets merge the newly generated data frame with high quality articles info with our parent data frame-'final_df'"
   ]
  },
  {
   "cell_type": "code",
   "execution_count": 20,
   "metadata": {
    "ExecuteTime": {
     "end_time": "2018-10-31T20:01:31.459281Z",
     "start_time": "2018-10-31T20:01:31.448005Z"
    }
   },
   "outputs": [],
   "source": [
    "final_df = pd.merge(final_df, high_quality_article_count_by_country, on='country')"
   ]
  },
  {
   "cell_type": "markdown",
   "metadata": {},
   "source": [
    "Since our population field is of type string and we need to scale it to the millions we need to strip string attributes and change the scale from millions to unit."
   ]
  },
  {
   "cell_type": "code",
   "execution_count": 21,
   "metadata": {
    "ExecuteTime": {
     "end_time": "2018-10-31T20:01:32.016483Z",
     "start_time": "2018-10-31T20:01:31.982899Z"
    }
   },
   "outputs": [],
   "source": [
    "#convert population to float and proper scale\n",
    "final_df[\"population\"] = final_df[\"population\"].apply(lambda s: s.replace(\",\", \"\")).apply(float)*1000000\n",
    "# create new features to analyze articles and high_quality articles per capita.\n",
    "final_df['articles_per_population'] = final_df['article_count'] / final_df['population']\n",
    "final_df[\"high_quality_articles_per_population\"] = final_df.high_quality_article_count / final_df.article_count"
   ]
  },
  {
   "cell_type": "code",
   "execution_count": 22,
   "metadata": {
    "ExecuteTime": {
     "end_time": "2018-10-31T20:01:32.539442Z",
     "start_time": "2018-10-31T20:01:32.525359Z"
    }
   },
   "outputs": [
    {
     "data": {
      "text/html": [
       "<div>\n",
       "<style scoped>\n",
       "    .dataframe tbody tr th:only-of-type {\n",
       "        vertical-align: middle;\n",
       "    }\n",
       "\n",
       "    .dataframe tbody tr th {\n",
       "        vertical-align: top;\n",
       "    }\n",
       "\n",
       "    .dataframe thead th {\n",
       "        text-align: right;\n",
       "    }\n",
       "</style>\n",
       "<table border=\"1\" class=\"dataframe\">\n",
       "  <thead>\n",
       "    <tr style=\"text-align: right;\">\n",
       "      <th></th>\n",
       "      <th>page</th>\n",
       "      <th>country</th>\n",
       "      <th>rev_id</th>\n",
       "      <th>prediction</th>\n",
       "      <th>population</th>\n",
       "      <th>article_count</th>\n",
       "      <th>high_quality_article_count</th>\n",
       "      <th>articles_per_population</th>\n",
       "      <th>high_quality_articles_per_population</th>\n",
       "    </tr>\n",
       "  </thead>\n",
       "  <tbody>\n",
       "    <tr>\n",
       "      <th>0</th>\n",
       "      <td>Bir I of Kanem</td>\n",
       "      <td>Chad</td>\n",
       "      <td>355319463</td>\n",
       "      <td>Stub</td>\n",
       "      <td>15400000.0</td>\n",
       "      <td>100</td>\n",
       "      <td>2</td>\n",
       "      <td>0.000006</td>\n",
       "      <td>0.02</td>\n",
       "    </tr>\n",
       "    <tr>\n",
       "      <th>1</th>\n",
       "      <td>Abdullah II of Kanem</td>\n",
       "      <td>Chad</td>\n",
       "      <td>498683267</td>\n",
       "      <td>Stub</td>\n",
       "      <td>15400000.0</td>\n",
       "      <td>100</td>\n",
       "      <td>2</td>\n",
       "      <td>0.000006</td>\n",
       "      <td>0.02</td>\n",
       "    </tr>\n",
       "    <tr>\n",
       "      <th>2</th>\n",
       "      <td>Salmama II of Kanem</td>\n",
       "      <td>Chad</td>\n",
       "      <td>565745353</td>\n",
       "      <td>Stub</td>\n",
       "      <td>15400000.0</td>\n",
       "      <td>100</td>\n",
       "      <td>2</td>\n",
       "      <td>0.000006</td>\n",
       "      <td>0.02</td>\n",
       "    </tr>\n",
       "    <tr>\n",
       "      <th>3</th>\n",
       "      <td>Kuri I of Kanem</td>\n",
       "      <td>Chad</td>\n",
       "      <td>565745365</td>\n",
       "      <td>Stub</td>\n",
       "      <td>15400000.0</td>\n",
       "      <td>100</td>\n",
       "      <td>2</td>\n",
       "      <td>0.000006</td>\n",
       "      <td>0.02</td>\n",
       "    </tr>\n",
       "    <tr>\n",
       "      <th>4</th>\n",
       "      <td>Mohammed I of Kanem</td>\n",
       "      <td>Chad</td>\n",
       "      <td>565745375</td>\n",
       "      <td>Stub</td>\n",
       "      <td>15400000.0</td>\n",
       "      <td>100</td>\n",
       "      <td>2</td>\n",
       "      <td>0.000006</td>\n",
       "      <td>0.02</td>\n",
       "    </tr>\n",
       "    <tr>\n",
       "      <th>5</th>\n",
       "      <td>Kuri II of Kanem</td>\n",
       "      <td>Chad</td>\n",
       "      <td>669719757</td>\n",
       "      <td>Stub</td>\n",
       "      <td>15400000.0</td>\n",
       "      <td>100</td>\n",
       "      <td>2</td>\n",
       "      <td>0.000006</td>\n",
       "      <td>0.02</td>\n",
       "    </tr>\n",
       "    <tr>\n",
       "      <th>6</th>\n",
       "      <td>Bir II of Kanem</td>\n",
       "      <td>Chad</td>\n",
       "      <td>670893206</td>\n",
       "      <td>Stub</td>\n",
       "      <td>15400000.0</td>\n",
       "      <td>100</td>\n",
       "      <td>2</td>\n",
       "      <td>0.000006</td>\n",
       "      <td>0.02</td>\n",
       "    </tr>\n",
       "    <tr>\n",
       "      <th>7</th>\n",
       "      <td>Mahamat Hissene</td>\n",
       "      <td>Chad</td>\n",
       "      <td>693055898</td>\n",
       "      <td>Stub</td>\n",
       "      <td>15400000.0</td>\n",
       "      <td>100</td>\n",
       "      <td>2</td>\n",
       "      <td>0.000006</td>\n",
       "      <td>0.02</td>\n",
       "    </tr>\n",
       "    <tr>\n",
       "      <th>8</th>\n",
       "      <td>Othman I</td>\n",
       "      <td>Chad</td>\n",
       "      <td>705432607</td>\n",
       "      <td>Stub</td>\n",
       "      <td>15400000.0</td>\n",
       "      <td>100</td>\n",
       "      <td>2</td>\n",
       "      <td>0.000006</td>\n",
       "      <td>0.02</td>\n",
       "    </tr>\n",
       "    <tr>\n",
       "      <th>9</th>\n",
       "      <td>Alphonse Kotiga</td>\n",
       "      <td>Chad</td>\n",
       "      <td>707593108</td>\n",
       "      <td>Stub</td>\n",
       "      <td>15400000.0</td>\n",
       "      <td>100</td>\n",
       "      <td>2</td>\n",
       "      <td>0.000006</td>\n",
       "      <td>0.02</td>\n",
       "    </tr>\n",
       "  </tbody>\n",
       "</table>\n",
       "</div>"
      ],
      "text/plain": [
       "                   page country     rev_id prediction  population  \\\n",
       "0        Bir I of Kanem    Chad  355319463       Stub  15400000.0   \n",
       "1  Abdullah II of Kanem    Chad  498683267       Stub  15400000.0   \n",
       "2   Salmama II of Kanem    Chad  565745353       Stub  15400000.0   \n",
       "3       Kuri I of Kanem    Chad  565745365       Stub  15400000.0   \n",
       "4   Mohammed I of Kanem    Chad  565745375       Stub  15400000.0   \n",
       "5      Kuri II of Kanem    Chad  669719757       Stub  15400000.0   \n",
       "6       Bir II of Kanem    Chad  670893206       Stub  15400000.0   \n",
       "7       Mahamat Hissene    Chad  693055898       Stub  15400000.0   \n",
       "8              Othman I    Chad  705432607       Stub  15400000.0   \n",
       "9       Alphonse Kotiga    Chad  707593108       Stub  15400000.0   \n",
       "\n",
       "   article_count  high_quality_article_count  articles_per_population  \\\n",
       "0            100                           2                 0.000006   \n",
       "1            100                           2                 0.000006   \n",
       "2            100                           2                 0.000006   \n",
       "3            100                           2                 0.000006   \n",
       "4            100                           2                 0.000006   \n",
       "5            100                           2                 0.000006   \n",
       "6            100                           2                 0.000006   \n",
       "7            100                           2                 0.000006   \n",
       "8            100                           2                 0.000006   \n",
       "9            100                           2                 0.000006   \n",
       "\n",
       "   high_quality_articles_per_population  \n",
       "0                                  0.02  \n",
       "1                                  0.02  \n",
       "2                                  0.02  \n",
       "3                                  0.02  \n",
       "4                                  0.02  \n",
       "5                                  0.02  \n",
       "6                                  0.02  \n",
       "7                                  0.02  \n",
       "8                                  0.02  \n",
       "9                                  0.02  "
      ]
     },
     "execution_count": 22,
     "metadata": {},
     "output_type": "execute_result"
    }
   ],
   "source": [
    "final_df.head(10)"
   ]
  },
  {
   "cell_type": "markdown",
   "metadata": {},
   "source": [
    "Now we have a data frame with requisite information to answer all our questions. We just need to group by on appropriate columns and have a look as to what we see or the abovementioned questions we want to answer."
   ]
  },
  {
   "cell_type": "markdown",
   "metadata": {},
   "source": [
    "  - 10 highest-ranked countries in terms of number of politician articles as a proportion of country population"
   ]
  },
  {
   "cell_type": "code",
   "execution_count": 23,
   "metadata": {
    "ExecuteTime": {
     "end_time": "2018-10-31T20:01:33.099579Z",
     "start_time": "2018-10-31T20:01:33.083022Z"
    }
   },
   "outputs": [
    {
     "data": {
      "text/html": [
       "<div>\n",
       "<style scoped>\n",
       "    .dataframe tbody tr th:only-of-type {\n",
       "        vertical-align: middle;\n",
       "    }\n",
       "\n",
       "    .dataframe tbody tr th {\n",
       "        vertical-align: top;\n",
       "    }\n",
       "\n",
       "    .dataframe thead th {\n",
       "        text-align: right;\n",
       "    }\n",
       "</style>\n",
       "<table border=\"1\" class=\"dataframe\">\n",
       "  <thead>\n",
       "    <tr style=\"text-align: right;\">\n",
       "      <th></th>\n",
       "      <th>country</th>\n",
       "      <th>articles_per_population</th>\n",
       "    </tr>\n",
       "  </thead>\n",
       "  <tbody>\n",
       "    <tr>\n",
       "      <th>0</th>\n",
       "      <td>Tuvalu</td>\n",
       "      <td>0.005500</td>\n",
       "    </tr>\n",
       "    <tr>\n",
       "      <th>1</th>\n",
       "      <td>Tonga</td>\n",
       "      <td>0.000630</td>\n",
       "    </tr>\n",
       "    <tr>\n",
       "      <th>2</th>\n",
       "      <td>Iceland</td>\n",
       "      <td>0.000515</td>\n",
       "    </tr>\n",
       "    <tr>\n",
       "      <th>3</th>\n",
       "      <td>Grenada</td>\n",
       "      <td>0.000360</td>\n",
       "    </tr>\n",
       "    <tr>\n",
       "      <th>4</th>\n",
       "      <td>Luxembourg</td>\n",
       "      <td>0.000300</td>\n",
       "    </tr>\n",
       "    <tr>\n",
       "      <th>5</th>\n",
       "      <td>Fiji</td>\n",
       "      <td>0.000221</td>\n",
       "    </tr>\n",
       "    <tr>\n",
       "      <th>6</th>\n",
       "      <td>Maldives</td>\n",
       "      <td>0.000210</td>\n",
       "    </tr>\n",
       "    <tr>\n",
       "      <th>7</th>\n",
       "      <td>Vanuatu</td>\n",
       "      <td>0.000200</td>\n",
       "    </tr>\n",
       "    <tr>\n",
       "      <th>8</th>\n",
       "      <td>Dominica</td>\n",
       "      <td>0.000171</td>\n",
       "    </tr>\n",
       "    <tr>\n",
       "      <th>9</th>\n",
       "      <td>New Zealand</td>\n",
       "      <td>0.000161</td>\n",
       "    </tr>\n",
       "  </tbody>\n",
       "</table>\n",
       "</div>"
      ],
      "text/plain": [
       "       country  articles_per_population\n",
       "0       Tuvalu                 0.005500\n",
       "1        Tonga                 0.000630\n",
       "2      Iceland                 0.000515\n",
       "3      Grenada                 0.000360\n",
       "4   Luxembourg                 0.000300\n",
       "5         Fiji                 0.000221\n",
       "6     Maldives                 0.000210\n",
       "7      Vanuatu                 0.000200\n",
       "8     Dominica                 0.000171\n",
       "9  New Zealand                 0.000161"
      ]
     },
     "execution_count": 23,
     "metadata": {},
     "output_type": "execute_result"
    }
   ],
   "source": [
    "final_df.groupby('country', as_index=False)['articles_per_population'].mean().sort_values(\"articles_per_population\", ascending=False).head(10).reset_index(drop=True)"
   ]
  },
  {
   "cell_type": "markdown",
   "metadata": {},
   "source": [
    "  - 10 lowest-ranked countries in terms of number of politician articles as a proportion of country population"
   ]
  },
  {
   "cell_type": "code",
   "execution_count": 24,
   "metadata": {
    "ExecuteTime": {
     "end_time": "2018-10-31T20:01:33.595242Z",
     "start_time": "2018-10-31T20:01:33.583051Z"
    }
   },
   "outputs": [
    {
     "data": {
      "text/html": [
       "<div>\n",
       "<style scoped>\n",
       "    .dataframe tbody tr th:only-of-type {\n",
       "        vertical-align: middle;\n",
       "    }\n",
       "\n",
       "    .dataframe tbody tr th {\n",
       "        vertical-align: top;\n",
       "    }\n",
       "\n",
       "    .dataframe thead th {\n",
       "        text-align: right;\n",
       "    }\n",
       "</style>\n",
       "<table border=\"1\" class=\"dataframe\">\n",
       "  <thead>\n",
       "    <tr style=\"text-align: right;\">\n",
       "      <th></th>\n",
       "      <th>country</th>\n",
       "      <th>articles_per_population</th>\n",
       "    </tr>\n",
       "  </thead>\n",
       "  <tbody>\n",
       "    <tr>\n",
       "      <th>0</th>\n",
       "      <td>India</td>\n",
       "      <td>7.190257e-07</td>\n",
       "    </tr>\n",
       "    <tr>\n",
       "      <th>1</th>\n",
       "      <td>Indonesia</td>\n",
       "      <td>8.069382e-07</td>\n",
       "    </tr>\n",
       "    <tr>\n",
       "      <th>2</th>\n",
       "      <td>China</td>\n",
       "      <td>8.143206e-07</td>\n",
       "    </tr>\n",
       "    <tr>\n",
       "      <th>3</th>\n",
       "      <td>Uzbekistan</td>\n",
       "      <td>8.814590e-07</td>\n",
       "    </tr>\n",
       "    <tr>\n",
       "      <th>4</th>\n",
       "      <td>Ethiopia</td>\n",
       "      <td>9.767442e-07</td>\n",
       "    </tr>\n",
       "    <tr>\n",
       "      <th>5</th>\n",
       "      <td>Korea, North</td>\n",
       "      <td>1.523437e-06</td>\n",
       "    </tr>\n",
       "    <tr>\n",
       "      <th>6</th>\n",
       "      <td>Thailand</td>\n",
       "      <td>1.691843e-06</td>\n",
       "    </tr>\n",
       "    <tr>\n",
       "      <th>7</th>\n",
       "      <td>Bangladesh</td>\n",
       "      <td>1.941106e-06</td>\n",
       "    </tr>\n",
       "    <tr>\n",
       "      <th>8</th>\n",
       "      <td>Vietnam</td>\n",
       "      <td>2.016895e-06</td>\n",
       "    </tr>\n",
       "    <tr>\n",
       "      <th>9</th>\n",
       "      <td>Sudan</td>\n",
       "      <td>2.350120e-06</td>\n",
       "    </tr>\n",
       "  </tbody>\n",
       "</table>\n",
       "</div>"
      ],
      "text/plain": [
       "        country  articles_per_population\n",
       "0         India             7.190257e-07\n",
       "1     Indonesia             8.069382e-07\n",
       "2         China             8.143206e-07\n",
       "3    Uzbekistan             8.814590e-07\n",
       "4      Ethiopia             9.767442e-07\n",
       "5  Korea, North             1.523437e-06\n",
       "6      Thailand             1.691843e-06\n",
       "7    Bangladesh             1.941106e-06\n",
       "8       Vietnam             2.016895e-06\n",
       "9         Sudan             2.350120e-06"
      ]
     },
     "execution_count": 24,
     "metadata": {},
     "output_type": "execute_result"
    }
   ],
   "source": [
    "final_df.groupby('country', as_index=False)['articles_per_population'].mean().sort_values(\"articles_per_population\", ascending=True).head(10).reset_index(drop=True)"
   ]
  },
  {
   "cell_type": "markdown",
   "metadata": {},
   "source": [
    "  - 10 highest-ranked countries in terms of number of GA and FA-quality articles as a proportion of all articles about politicians from that country"
   ]
  },
  {
   "cell_type": "code",
   "execution_count": 25,
   "metadata": {
    "ExecuteTime": {
     "end_time": "2018-10-31T20:01:34.116046Z",
     "start_time": "2018-10-31T20:01:34.100591Z"
    }
   },
   "outputs": [
    {
     "data": {
      "text/html": [
       "<div>\n",
       "<style scoped>\n",
       "    .dataframe tbody tr th:only-of-type {\n",
       "        vertical-align: middle;\n",
       "    }\n",
       "\n",
       "    .dataframe tbody tr th {\n",
       "        vertical-align: top;\n",
       "    }\n",
       "\n",
       "    .dataframe thead th {\n",
       "        text-align: right;\n",
       "    }\n",
       "</style>\n",
       "<table border=\"1\" class=\"dataframe\">\n",
       "  <thead>\n",
       "    <tr style=\"text-align: right;\">\n",
       "      <th></th>\n",
       "      <th>country</th>\n",
       "      <th>high_quality_articles_per_population</th>\n",
       "    </tr>\n",
       "  </thead>\n",
       "  <tbody>\n",
       "    <tr>\n",
       "      <th>0</th>\n",
       "      <td>Korea, North</td>\n",
       "      <td>0.179487</td>\n",
       "    </tr>\n",
       "    <tr>\n",
       "      <th>1</th>\n",
       "      <td>Saudi Arabia</td>\n",
       "      <td>0.134454</td>\n",
       "    </tr>\n",
       "    <tr>\n",
       "      <th>2</th>\n",
       "      <td>Central African Republic</td>\n",
       "      <td>0.117647</td>\n",
       "    </tr>\n",
       "    <tr>\n",
       "      <th>3</th>\n",
       "      <td>Romania</td>\n",
       "      <td>0.114943</td>\n",
       "    </tr>\n",
       "    <tr>\n",
       "      <th>4</th>\n",
       "      <td>Mauritania</td>\n",
       "      <td>0.096154</td>\n",
       "    </tr>\n",
       "    <tr>\n",
       "      <th>5</th>\n",
       "      <td>Bhutan</td>\n",
       "      <td>0.090909</td>\n",
       "    </tr>\n",
       "    <tr>\n",
       "      <th>6</th>\n",
       "      <td>Tuvalu</td>\n",
       "      <td>0.090909</td>\n",
       "    </tr>\n",
       "    <tr>\n",
       "      <th>7</th>\n",
       "      <td>Dominica</td>\n",
       "      <td>0.083333</td>\n",
       "    </tr>\n",
       "    <tr>\n",
       "      <th>8</th>\n",
       "      <td>United States</td>\n",
       "      <td>0.075092</td>\n",
       "    </tr>\n",
       "    <tr>\n",
       "      <th>9</th>\n",
       "      <td>Benin</td>\n",
       "      <td>0.074468</td>\n",
       "    </tr>\n",
       "  </tbody>\n",
       "</table>\n",
       "</div>"
      ],
      "text/plain": [
       "                    country  high_quality_articles_per_population\n",
       "0              Korea, North                              0.179487\n",
       "1              Saudi Arabia                              0.134454\n",
       "2  Central African Republic                              0.117647\n",
       "3                   Romania                              0.114943\n",
       "4                Mauritania                              0.096154\n",
       "5                    Bhutan                              0.090909\n",
       "6                    Tuvalu                              0.090909\n",
       "7                  Dominica                              0.083333\n",
       "8             United States                              0.075092\n",
       "9                     Benin                              0.074468"
      ]
     },
     "execution_count": 25,
     "metadata": {},
     "output_type": "execute_result"
    }
   ],
   "source": [
    "final_df.groupby('country', as_index=False)['high_quality_articles_per_population'].mean().sort_values(\"high_quality_articles_per_population\", ascending=False).head(10).reset_index(drop=True)"
   ]
  },
  {
   "cell_type": "markdown",
   "metadata": {},
   "source": [
    " - 10 lowest-ranked countries in terms of number of GA and FA-quality articles as a proportion of all articles about politicians from that country"
   ]
  },
  {
   "cell_type": "code",
   "execution_count": 26,
   "metadata": {
    "ExecuteTime": {
     "end_time": "2018-10-31T20:01:34.657333Z",
     "start_time": "2018-10-31T20:01:34.646057Z"
    }
   },
   "outputs": [
    {
     "data": {
      "text/html": [
       "<div>\n",
       "<style scoped>\n",
       "    .dataframe tbody tr th:only-of-type {\n",
       "        vertical-align: middle;\n",
       "    }\n",
       "\n",
       "    .dataframe tbody tr th {\n",
       "        vertical-align: top;\n",
       "    }\n",
       "\n",
       "    .dataframe thead th {\n",
       "        text-align: right;\n",
       "    }\n",
       "</style>\n",
       "<table border=\"1\" class=\"dataframe\">\n",
       "  <thead>\n",
       "    <tr style=\"text-align: right;\">\n",
       "      <th></th>\n",
       "      <th>country</th>\n",
       "      <th>high_quality_articles_per_population</th>\n",
       "    </tr>\n",
       "  </thead>\n",
       "  <tbody>\n",
       "    <tr>\n",
       "      <th>0</th>\n",
       "      <td>Tanzania</td>\n",
       "      <td>0.002451</td>\n",
       "    </tr>\n",
       "    <tr>\n",
       "      <th>1</th>\n",
       "      <td>Peru</td>\n",
       "      <td>0.002825</td>\n",
       "    </tr>\n",
       "    <tr>\n",
       "      <th>2</th>\n",
       "      <td>Lithuania</td>\n",
       "      <td>0.004032</td>\n",
       "    </tr>\n",
       "    <tr>\n",
       "      <th>3</th>\n",
       "      <td>Nigeria</td>\n",
       "      <td>0.004399</td>\n",
       "    </tr>\n",
       "    <tr>\n",
       "      <th>4</th>\n",
       "      <td>Morocco</td>\n",
       "      <td>0.004808</td>\n",
       "    </tr>\n",
       "    <tr>\n",
       "      <th>5</th>\n",
       "      <td>Fiji</td>\n",
       "      <td>0.005025</td>\n",
       "    </tr>\n",
       "    <tr>\n",
       "      <th>6</th>\n",
       "      <td>Bolivia</td>\n",
       "      <td>0.005348</td>\n",
       "    </tr>\n",
       "    <tr>\n",
       "      <th>7</th>\n",
       "      <td>Brazil</td>\n",
       "      <td>0.005445</td>\n",
       "    </tr>\n",
       "    <tr>\n",
       "      <th>8</th>\n",
       "      <td>Luxembourg</td>\n",
       "      <td>0.005556</td>\n",
       "    </tr>\n",
       "    <tr>\n",
       "      <th>9</th>\n",
       "      <td>Sierra Leone</td>\n",
       "      <td>0.006024</td>\n",
       "    </tr>\n",
       "  </tbody>\n",
       "</table>\n",
       "</div>"
      ],
      "text/plain": [
       "        country  high_quality_articles_per_population\n",
       "0      Tanzania                              0.002451\n",
       "1          Peru                              0.002825\n",
       "2     Lithuania                              0.004032\n",
       "3       Nigeria                              0.004399\n",
       "4       Morocco                              0.004808\n",
       "5          Fiji                              0.005025\n",
       "6       Bolivia                              0.005348\n",
       "7        Brazil                              0.005445\n",
       "8    Luxembourg                              0.005556\n",
       "9  Sierra Leone                              0.006024"
      ]
     },
     "execution_count": 26,
     "metadata": {},
     "output_type": "execute_result"
    }
   ],
   "source": [
    "final_df.groupby('country', as_index=False)['high_quality_articles_per_population'].mean().sort_values(\"high_quality_articles_per_population\", ascending=True).head(10).reset_index(drop=True)"
   ]
  }
 ],
 "metadata": {
  "kernelspec": {
   "display_name": "Python 3",
   "language": "python",
   "name": "python3"
  },
  "language_info": {
   "codemirror_mode": {
    "name": "ipython",
    "version": 3
   },
   "file_extension": ".py",
   "mimetype": "text/x-python",
   "name": "python",
   "nbconvert_exporter": "python",
   "pygments_lexer": "ipython3",
   "version": "3.7.0"
  },
  "varInspector": {
   "cols": {
    "lenName": 16,
    "lenType": 16,
    "lenVar": 40
   },
   "kernels_config": {
    "python": {
     "delete_cmd_postfix": "",
     "delete_cmd_prefix": "del ",
     "library": "var_list.py",
     "varRefreshCmd": "print(var_dic_list())"
    },
    "r": {
     "delete_cmd_postfix": ") ",
     "delete_cmd_prefix": "rm(",
     "library": "var_list.r",
     "varRefreshCmd": "cat(var_dic_list()) "
    }
   },
   "types_to_exclude": [
    "module",
    "function",
    "builtin_function_or_method",
    "instance",
    "_Feature"
   ],
   "window_display": false
  }
 },
 "nbformat": 4,
 "nbformat_minor": 2
}
